{
 "cells": [
  {
   "cell_type": "code",
   "execution_count": 1,
   "metadata": {},
   "outputs": [],
   "source": [
    "# !pip3 install -r ../requirements.txt"
   ]
  },
  {
   "cell_type": "code",
   "execution_count": 2,
   "metadata": {},
   "outputs": [],
   "source": [
    "import sys\n",
    "import os\n",
    "\n",
    "# プロジェクトのルートディレクトリを指定\n",
    "project_root = os.path.abspath(os.path.join(os.getcwd(), './..'))\n",
    "sys.path.append(project_root)"
   ]
  },
  {
   "cell_type": "markdown",
   "metadata": {},
   "source": [
    "## YAML"
   ]
  },
  {
   "cell_type": "code",
   "execution_count": 3,
   "metadata": {},
   "outputs": [],
   "source": [
    "from omegaconf import OmegaConf\n",
    "from config.modifier import dynamically_modify_config\n",
    "\n",
    "config_path = './../config/config.yaml'\n",
    "config = OmegaConf.load(config_path)\n",
    "dynamically_modify_config(config=config)"
   ]
  },
  {
   "cell_type": "markdown",
   "metadata": {},
   "source": [
    "## 環境"
   ]
  },
  {
   "cell_type": "code",
   "execution_count": 4,
   "metadata": {},
   "outputs": [],
   "source": [
    "from src.build import build_env\n",
    "\n",
    "env = build_env(config=config)\n",
    "max_speed = env.v_max\n",
    "max_steer = env.s_max"
   ]
  },
  {
   "cell_type": "code",
   "execution_count": null,
   "metadata": {},
   "outputs": [],
   "source": [
    "## Actor"
   ]
  },
  {
   "cell_type": "code",
   "execution_count": null,
   "metadata": {},
   "outputs": [],
   "source": [
    "import torch\n",
    "from modules.sac_module import SACModule\n",
    "model = SACModule(env=env, config=config)\n",
    "\n",
    "ckpt_path = ''\n",
    "ckpt = torch.load(ckpt_path)\n",
    "model.load_state_dict(ckpt['state_dict'])\n",
    "actor = model.actor\n",
    "actor.eval()"
   ]
  },
  {
   "cell_type": "code",
   "execution_count": 7,
   "metadata": {},
   "outputs": [],
   "source": [
    "import numpy as np\n",
    "from src.agent import convert_action, convert_obs\n",
    "\n",
    "obs = env.reset()\n",
    "env.render()\n",
    "state = convert_obs(obs)\n",
    "done = False\n",
    "# シミュレーションループ\n",
    "while not done:\n",
    "    actions = []\n",
    "    state = torch.tensor(state, dtype=torch.float32)\n",
    "    nn_action, _ = actor(state)\n",
    "    action = convert_action(nn_action.cpu().numpy(), max_steer=max_steer, max_speed=max_speed)\n",
    "    actions.append(action)\n",
    "    new_obs, step_reward, done, info = env.step(np.array(actions))\n",
    "    new_state = convert_obs(new_obs)\n",
    "\n",
    "    obs = new_obs\n",
    "    state = new_state\n",
    "    env.render(mode='human')\n",
    "    "
   ]
  }
 ],
 "metadata": {
  "kernelspec": {
   "display_name": "gym_env",
   "language": "python",
   "name": "python3"
  },
  "language_info": {
   "codemirror_mode": {
    "name": "ipython",
    "version": 3
   },
   "file_extension": ".py",
   "mimetype": "text/x-python",
   "name": "python",
   "nbconvert_exporter": "python",
   "pygments_lexer": "ipython3",
   "version": "3.9.19"
  }
 },
 "nbformat": 4,
 "nbformat_minor": 2
}
